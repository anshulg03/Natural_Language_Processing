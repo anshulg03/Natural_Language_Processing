{
 "cells": [
  {
   "cell_type": "markdown",
   "metadata": {},
   "source": [
    "### Word Sense Disambiguity"
   ]
  },
  {
   "cell_type": "markdown",
   "metadata": {},
   "source": [
    "##### Given the following sentences:\n",
    "    Project is very difficult for completion in 5 days.\n",
    "    The project should have proper documentation.\n",
    "    Please project the document on the screen.\n",
    "    Project this project in the workshop"
   ]
  },
  {
   "cell_type": "code",
   "execution_count": 1,
   "metadata": {
    "collapsed": true
   },
   "outputs": [],
   "source": [
    "import nltk\n",
    "from nltk.tokenize import word_tokenize,sent_tokenize\n",
    "from nltk.wsd import lesk\n",
    "from nltk.corpus import wordnet as wn\n",
    "from nltk.tag import BrillTaggerTrainer\n",
    "from nltk.tag.brill import *\n"
   ]
  },
  {
   "cell_type": "code",
   "execution_count": 2,
   "metadata": {
    "collapsed": true
   },
   "outputs": [],
   "source": [
    "sent1 = 'Project is very difficult for completion in 5 days.'\n",
    "sent2 = 'The project should have proper documentation.'\n",
    "sent3 = 'Please project the document on the screen.'\n",
    "sent4 = 'Project this project in the workshop'\n",
    "word = 'project'"
   ]
  },
  {
   "cell_type": "markdown",
   "metadata": {},
   "source": [
    "# Part - 1\n",
    "\n",
    "## Use the Lesk Module to find the similar words of the word *book* using the above sentences. Record your observations.\n"
   ]
  },
  {
   "cell_type": "code",
   "execution_count": 3,
   "metadata": {},
   "outputs": [
    {
     "name": "stdout",
     "output_type": "stream",
     "text": [
      "Synset('undertaking.n.01') any piece of work that is undertaken or attempted\n",
      "Synset('project.n.02') a planned undertaking\n",
      "Synset('project.v.01') communicate vividly\n",
      "Synset('stick_out.v.01') extend out or project in space\n",
      "Synset('project.v.03') transfer (ideas or principles) from one domain into another\n",
      "Synset('project.v.04') project on a screen\n",
      "Synset('project.v.05') cause to be heard\n",
      "Synset('project.v.06') draw a projection of\n",
      "Synset('plan.v.03') make or work out a plan for; devise\n",
      "Synset('project.v.08') present for consideration, examination, criticism, etc.\n",
      "Synset('visualize.v.01') imagine; conceive of; see in one's mind\n",
      "Synset('project.v.10') put or send forth\n",
      "Synset('project.v.11') throw, send, or cast forward\n",
      "Synset('project.v.12') regard as objective\n"
     ]
    }
   ],
   "source": [
    "for ss in wn.synsets(word):\n",
    "     print(ss, ss.definition())"
   ]
  },
  {
   "cell_type": "code",
   "execution_count": 4,
   "metadata": {},
   "outputs": [
    {
     "data": {
      "text/plain": [
       "Synset('project.v.06')"
      ]
     },
     "execution_count": 4,
     "metadata": {},
     "output_type": "execute_result"
    }
   ],
   "source": [
    "lesk(sent1, word)"
   ]
  },
  {
   "cell_type": "code",
   "execution_count": 5,
   "metadata": {},
   "outputs": [
    {
     "data": {
      "text/plain": [
       "Synset('project.v.06')"
      ]
     },
     "execution_count": 5,
     "metadata": {},
     "output_type": "execute_result"
    }
   ],
   "source": [
    "lesk(sent2, word)"
   ]
  },
  {
   "cell_type": "code",
   "execution_count": 6,
   "metadata": {},
   "outputs": [
    {
     "data": {
      "text/plain": [
       "Synset('project.v.06')"
      ]
     },
     "execution_count": 6,
     "metadata": {},
     "output_type": "execute_result"
    }
   ],
   "source": [
    "lesk(sent3, word)"
   ]
  },
  {
   "cell_type": "code",
   "execution_count": 7,
   "metadata": {},
   "outputs": [
    {
     "data": {
      "text/plain": [
       "Synset('visualize.v.01')"
      ]
     },
     "execution_count": 7,
     "metadata": {},
     "output_type": "execute_result"
    }
   ],
   "source": [
    "lesk(sent4, word)"
   ]
  },
  {
   "cell_type": "markdown",
   "metadata": {},
   "source": [
    "# Part - 2\n",
    "\n",
    "## Tag sentences using Brill Tagger.\n",
    "\n",
    "### Brill Tagger\n",
    "\n",
    "#### The BrillTagger class is a transformation-based tagger. The BrillTagger class uses a series of rules to correct the results of an initial tagger. These rules are scored based on how many errors they correct minus the number of new errors they produce.\n",
    "\n",
    "#### The idea is simple Brill Tagger tries to correct the mistake made by the inital tagger. Brill tagger inputs an initial tagger and the templates which autmatically tells to create new rules based on the Training Set.\n",
    "\n",
    "#### Recommended Steps:\n",
    "\n",
    "##### 1. Initially tag the sentence using POS Tagger. Then observe the POS tags for the word book in different context\n",
    "##### 2. Then create a tagged_sentence using the POS Tagger correcting it with the mistakes it made.\n",
    "##### 3. Now create a Brill Tagger using an initial tagger (POS) and pass templates(rules) to it.\n",
    "##### 4. Train the Brill Tagger using the Tagged Sentence\n",
    "##### 5. Test the Brill Tagger.\n",
    "\n"
   ]
  },
  {
   "cell_type": "code",
   "execution_count": 8,
   "metadata": {
    "collapsed": true
   },
   "outputs": [],
   "source": [
    "train_text = '''Project is very difficult for completion in 5 days.\n",
    "                The project should have proper documentation.\n",
    "                Please project the document on the screen.\n",
    "                Project this project in the workshop'''"
   ]
  },
  {
   "cell_type": "code",
   "execution_count": 9,
   "metadata": {},
   "outputs": [
    {
     "data": {
      "text/plain": [
       "[[('Project', 'NN'),\n",
       "  ('is', 'VBZ'),\n",
       "  ('very', 'RB'),\n",
       "  ('difficult', 'JJ'),\n",
       "  ('for', 'IN'),\n",
       "  ('completion', 'NN'),\n",
       "  ('in', 'IN'),\n",
       "  ('5', 'CD'),\n",
       "  ('days', 'NNS'),\n",
       "  ('.', '.')],\n",
       " [('The', 'DT'),\n",
       "  ('project', 'NN'),\n",
       "  ('should', 'MD'),\n",
       "  ('have', 'VB'),\n",
       "  ('proper', 'JJ'),\n",
       "  ('documentation', 'NN'),\n",
       "  ('.', '.')],\n",
       " [('Please', 'NNP'),\n",
       "  ('project', 'VB'),\n",
       "  ('the', 'DT'),\n",
       "  ('document', 'NN'),\n",
       "  ('on', 'IN'),\n",
       "  ('the', 'DT'),\n",
       "  ('screen', 'NN'),\n",
       "  ('.', '.')],\n",
       " [('Project', 'NN'),\n",
       "  ('this', 'DT'),\n",
       "  ('project', 'NN'),\n",
       "  ('in', 'IN'),\n",
       "  ('the', 'DT'),\n",
       "  ('workshop', 'NN')]]"
      ]
     },
     "execution_count": 9,
     "metadata": {},
     "output_type": "execute_result"
    }
   ],
   "source": [
    "pos_tags = [nltk.pos_tag(word_tokenize(sentence)) for sentence in sent_tokenize(train_text)]\n",
    "pos_tags"
   ]
  },
  {
   "cell_type": "code",
   "execution_count": 10,
   "metadata": {},
   "outputs": [
    {
     "data": {
      "text/plain": [
       "[[('Project', 'NNP'),\n",
       "  ('is', 'VBZ'),\n",
       "  ('very', 'RB'),\n",
       "  ('difficult', 'JJ'),\n",
       "  ('for', 'IN'),\n",
       "  ('completion', 'NN'),\n",
       "  ('in', 'IN'),\n",
       "  ('5', 'CD'),\n",
       "  ('days', 'NNS'),\n",
       "  ('.', '.')],\n",
       " [('The', 'DT'),\n",
       "  ('project', 'NN'),\n",
       "  ('should', 'MD'),\n",
       "  ('have', 'VB'),\n",
       "  ('proper', 'JJR'),\n",
       "  ('documentation', 'NN'),\n",
       "  ('.', '.')],\n",
       " [('Please', 'NN'),\n",
       "  ('project', 'NN'),\n",
       "  ('the', 'DT'),\n",
       "  ('document', 'NN'),\n",
       "  ('on', 'IN'),\n",
       "  ('the', 'DT'),\n",
       "  ('screen', 'NN'),\n",
       "  ('.', '.')],\n",
       " [('Project', 'NNP'),\n",
       "  ('this', 'DT'),\n",
       "  ('project', 'NN'),\n",
       "  ('in', 'IN'),\n",
       "  ('the', 'DT'),\n",
       "  ('workshop', 'NN')]]"
      ]
     },
     "execution_count": 10,
     "metadata": {},
     "output_type": "execute_result"
    }
   ],
   "source": [
    "pic_tagger = nltk.data.load('taggers/maxent_treebank_pos_tagger/english.pickle')\n",
    "pickle_tagger = [pic_tagger.tag(word_tokenize(sentence)) for sentence in sent_tokenize(train_text)]\n",
    "pickle_tagger"
   ]
  },
  {
   "cell_type": "code",
   "execution_count": 11,
   "metadata": {},
   "outputs": [],
   "source": [
    "tagged_sentence =[['Project/NNP','is/VBZ','very/RB','difficult/JJ','for/IN','completion/NN','in/IN','5/CD','days/NNS','./None'],\n",
    "  ['The/DT','project/NN','should/MD','have/VB','proper/JJR','documentation/NN','./None'],\n",
    " ['Please/NN','project/VB','the/DT','document/NN','on/IN','the/DT','screen/NN','./None'],\n",
    " ['Project/VB','Please/NN','project/NN','in/IN','the/DT','workshop/NN'],\n",
    " [\"Please/NN\", \"project/VB\", \"this/DT\"]]"
   ]
  },
  {
   "cell_type": "code",
   "execution_count": 12,
   "metadata": {},
   "outputs": [],
   "source": [
    "training_set = []\n",
    "for sentence in tagged_sentence:\n",
    "    tuples = []\n",
    "    for word in sentence:\n",
    "        tuples.append(nltk.str2tuple(word))\n",
    "    training_set.append(tuples)"
   ]
  },
  {
   "cell_type": "code",
   "execution_count": 13,
   "metadata": {},
   "outputs": [],
   "source": [
    "def nltk18():\n",
    "\n",
    "    return [\n",
    "        Template(Pos([-1])),\n",
    "        Template(Pos([1])),\n",
    "        Template(Pos([-2])),\n",
    "        Template(Pos([2])),\n",
    "        Template(Pos([-2, -1])),\n",
    "        Template(Pos([1, 2])),\n",
    "        Template(Pos([-3, -2, -1])),\n",
    "        Template(Pos([1, 2, 3])),\n",
    "        Template(Pos([-1]), Pos([1])),\n",
    "        Template(Word([-1])),\n",
    "        Template(Word([1])),\n",
    "        Template(Word([-2])),\n",
    "        Template(Word([2])),\n",
    "        Template(Word([-2, -1])),\n",
    "        Template(Word([1, 2])),\n",
    "        Template(Word([-3, -2, -1])),\n",
    "        Template(Word([1, 2, 3])),\n",
    "        Template(Word([-1]), Word([1])),\n",
    "    ]"
   ]
  },
  {
   "cell_type": "code",
   "execution_count": 14,
   "metadata": {},
   "outputs": [],
   "source": [
    "brill_tag_trainer = BrillTaggerTrainer(pic_tagger, nltk18())\n",
    "brill_tagger = brill_tag_trainer.train(training_set)"
   ]
  },
  {
   "cell_type": "code",
   "execution_count": 15,
   "metadata": {},
   "outputs": [
    {
     "data": {
      "text/plain": [
       "(Rule('006', '.', 'NONE', [(Pos([-3, -2, -1]),'IN')]),\n",
       " Rule('000', 'NN', 'VB', [(Pos([-1]),'NN')]))"
      ]
     },
     "execution_count": 15,
     "metadata": {},
     "output_type": "execute_result"
    }
   ],
   "source": [
    "brill_tagger.rules()"
   ]
  },
  {
   "cell_type": "code",
   "execution_count": 16,
   "metadata": {},
   "outputs": [
    {
     "data": {
      "text/plain": [
       "[[('Project', 'NNP'),\n",
       "  ('is', 'VBZ'),\n",
       "  ('very', 'RB'),\n",
       "  ('difficult', 'JJ'),\n",
       "  ('for', 'IN'),\n",
       "  ('completion', 'NN'),\n",
       "  ('in', 'IN'),\n",
       "  ('5', 'CD'),\n",
       "  ('days', 'NNS'),\n",
       "  ('.', 'NONE')],\n",
       " [('The', 'DT'),\n",
       "  ('project', 'NN'),\n",
       "  ('should', 'MD'),\n",
       "  ('have', 'VB'),\n",
       "  ('proper', 'JJR'),\n",
       "  ('documentation', 'NN'),\n",
       "  ('.', '.')],\n",
       " [('Please', 'NN'),\n",
       "  ('project', 'VB'),\n",
       "  ('the', 'DT'),\n",
       "  ('document', 'NN'),\n",
       "  ('on', 'IN'),\n",
       "  ('the', 'DT'),\n",
       "  ('screen', 'NN'),\n",
       "  ('.', 'NONE')],\n",
       " [('Project', 'NNP'),\n",
       "  ('this', 'DT'),\n",
       "  ('project', 'NN'),\n",
       "  ('in', 'IN'),\n",
       "  ('the', 'DT'),\n",
       "  ('workshop', 'NN')]]"
      ]
     },
     "execution_count": 16,
     "metadata": {},
     "output_type": "execute_result"
    }
   ],
   "source": [
    "[brill_tagger.tag(word_tokenize(sentence)) for sentence in sent_tokenize(train_text)]"
   ]
  },
  {
   "cell_type": "code",
   "execution_count": 17,
   "metadata": {},
   "outputs": [],
   "source": [
    "tagged_sent = brill_tagger.tag(word_tokenize(\"Project please project this\"))"
   ]
  },
  {
   "cell_type": "code",
   "execution_count": 18,
   "metadata": {},
   "outputs": [
    {
     "data": {
      "text/plain": [
       "[('Project', 'NNP'), ('please', 'NN'), ('project', 'VB'), ('this', 'DT')]"
      ]
     },
     "execution_count": 18,
     "metadata": {},
     "output_type": "execute_result"
    }
   ],
   "source": [
    "tagged_sent"
   ]
  },
  {
   "cell_type": "markdown",
   "metadata": {},
   "source": [
    "# Part - 3\n",
    "\n",
    "## Perform Part-1 again but passing the POS tags produced by the Brill Tagger.\n",
    "    "
   ]
  },
  {
   "cell_type": "code",
   "execution_count": 19,
   "metadata": {
    "collapsed": true
   },
   "outputs": [],
   "source": [
    "sent1 = 'Project is very difficult for completion in 5 days.'\n",
    "sent2 = 'The project should have proper documentation.'\n",
    "sent3 = 'Please project the document on the screen.'\n",
    "sent4 = 'Project this project in the workshop'\n",
    "word = 'project'"
   ]
  },
  {
   "cell_type": "code",
   "execution_count": 20,
   "metadata": {},
   "outputs": [
    {
     "data": {
      "text/plain": [
       "'a planned undertaking'"
      ]
     },
     "execution_count": 20,
     "metadata": {},
     "output_type": "execute_result"
    }
   ],
   "source": [
    "lesk(context_sentence=sent1.lower(),ambiguous_word='project',pos = 'n').definition()"
   ]
  },
  {
   "cell_type": "code",
   "execution_count": 21,
   "metadata": {},
   "outputs": [
    {
     "data": {
      "text/plain": [
       "'a planned undertaking'"
      ]
     },
     "execution_count": 21,
     "metadata": {},
     "output_type": "execute_result"
    }
   ],
   "source": [
    "lesk(context_sentence=sent2.lower(),ambiguous_word='project',pos = 'n').definition()"
   ]
  },
  {
   "cell_type": "code",
   "execution_count": 22,
   "metadata": {},
   "outputs": [
    {
     "data": {
      "text/plain": [
       "'draw a projection of'"
      ]
     },
     "execution_count": 22,
     "metadata": {},
     "output_type": "execute_result"
    }
   ],
   "source": [
    "lesk(context_sentence=sent3.lower(),ambiguous_word='project',pos = 'v').definition()"
   ]
  },
  {
   "cell_type": "code",
   "execution_count": 23,
   "metadata": {},
   "outputs": [],
   "source": [
    "lesk(context_sentence=sent4.lower(),ambiguous_word='project',pos = ['v','n'])"
   ]
  },
  {
   "cell_type": "code",
   "execution_count": 24,
   "metadata": {
    "collapsed": true
   },
   "outputs": [],
   "source": [
    "def transform(tagged_word):\n",
    "    tag = wn.NOUN\n",
    "    if tagged_word.startswith('V'):\n",
    "        tag = wn.VERB\n",
    "    return tag"
   ]
  },
  {
   "cell_type": "code",
   "execution_count": 25,
   "metadata": {},
   "outputs": [
    {
     "name": "stdout",
     "output_type": "stream",
     "text": [
      "a planned undertaking\n",
      "draw a projection of\n"
     ]
    }
   ],
   "source": [
    "for word in tagged_sent:\n",
    "    if word[0].lower() == 'project':\n",
    "        sentence = ' '.join([word[0] for word in tagged_sent])\n",
    "        print(lesk(context_sentence=sentence, ambiguous_word=word[0].lower(), pos=transform(word[1])).definition()) "
   ]
  },
  {
   "cell_type": "code",
   "execution_count": null,
   "metadata": {
    "collapsed": true
   },
   "outputs": [],
   "source": []
  }
 ],
 "metadata": {
  "kernelspec": {
   "display_name": "Python 3",
   "language": "python",
   "name": "python3"
  },
  "language_info": {
   "codemirror_mode": {
    "name": "ipython",
    "version": 3
   },
   "file_extension": ".py",
   "mimetype": "text/x-python",
   "name": "python",
   "nbconvert_exporter": "python",
   "pygments_lexer": "ipython3",
   "version": "3.5.2"
  }
 },
 "nbformat": 4,
 "nbformat_minor": 2
}
