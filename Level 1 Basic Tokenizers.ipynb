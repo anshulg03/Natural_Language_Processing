{
 "cells": [
  {
   "cell_type": "markdown",
   "metadata": {},
   "source": [
    "## UK Government Content Writing Criteria\n",
    "\n",
    "UK Government has a certain checklist for the content writers. They want the content writers to be more specific in the details they want to convey to the users. UK Government basically believes that when you write more people understand less. So they came up with a simple solution.\n",
    "\n",
    "1. There can be no more than 15 Sentences.\n",
    "2. And each sentence should have less than 15 words.\n",
    "3. And each word should be less than 15 words.\n",
    "\n",
    "Help the UK Government writing a detector which checks for the above criteria. \n",
    "\n",
    "Write three seperate detectors so that the content writer knows where exactly did he make the mistake"
   ]
  },
  {
   "cell_type": "markdown",
   "metadata": {},
   "source": [
    "So here is Mr. James Wilson who wrote about Elon Musk. Here is the following content.\n",
    "\n",
    "~~~~ \n",
    "Musk was born on June 28, 1971, in Pretoria, Gauteng, South Africa,[27] the son of Maye Musk (née Haldeman), a model and dietician from Regina, Saskatchewan, Canada;[28] and Errol Musk, a South African electromechanical engineer, pilot and sailor. He has a younger brother, Kimbal (born 1972), and a younger sister, Tosca (born 1974).[28][29][30][31] His paternal grandmother was British, and he also has Pennsylvania Dutch ancestry,[32][33] and his maternal grandfather was American, from Minnesota.[34] After his parents divorced in 1980, Musk lived mostly with his father in the suburbs of Pretoria.[32]\n",
    "\n",
    "During his childhood he had an interest in reading and often did so for hours at a time.[35]\n",
    "\n",
    "At What age did Musk got interested in computing? At age 10, he developed an interest in computing with the Commodore VIC-20.[36] He taught himself computer programming at the age of 12, sold the code for a BASIC-based video game he created called Blastar, to a magazine called PC and Office Technology, for approximately $500. [37][38] A web version of the game is available online.[37][39]\n",
    "\n",
    "Musk was severely bullied throughout his childhood, and was once hospitalized when a group of boys threw him down a flight of stairs and then beat him until he lost consciousness.[40]\n",
    "\n",
    "Musk was initially educated at private schools, attending the English-speaking Waterkloof House Preparatory School. \n",
    "\n",
    "Mr. Singh helped Musk during his initial days when he was severely bullied during his childhood.\n",
    "\n",
    "Musk later graduated from Pretoria Boys High School and moved to Canada in June 1989, just before his 18th birthday,[41] after obtaining Canadian citizenship through his Canadian-born mother.[42][43] Although at the time Musk had to register to become a Canadian citizen, Bill C-37, which came into law in April of 2009, effectively made his Canadian citizenship retroactive to his birth since he was born in the first generation abroad to a Canadian-born mother. Therefore, with the law change, he is considered to have always been a Canadian citizen by birth.\n",
    "~~~~\n"
   ]
  },
  {
   "cell_type": "code",
   "execution_count": 1,
   "metadata": {
    "collapsed": true
   },
   "outputs": [],
   "source": [
    "import nltk\n",
    "from nltk.tokenize import word_tokenize, sent_tokenize"
   ]
  },
  {
   "cell_type": "markdown",
   "metadata": {},
   "source": [
    "# Reading the text file"
   ]
  },
  {
   "cell_type": "code",
   "execution_count": 2,
   "metadata": {
    "collapsed": true
   },
   "outputs": [],
   "source": [
    "file = open('TextFile.txt','r')\n",
    "reader = file.read()"
   ]
  },
  {
   "cell_type": "markdown",
   "metadata": {
    "collapsed": true
   },
   "source": [
    "# Function to detect first criteria"
   ]
  },
  {
   "cell_type": "markdown",
   "metadata": {},
   "source": [
    "# Method 1"
   ]
  },
  {
   "cell_type": "code",
   "execution_count": 3,
   "metadata": {},
   "outputs": [
    {
     "data": {
      "text/plain": [
       "True"
      ]
     },
     "execution_count": 3,
     "metadata": {},
     "output_type": "execute_result"
    }
   ],
   "source": [
    "def number_of_sentences(file):\n",
    "    list_of_sentence_count = [len(sent_tokenize(reader))]\n",
    "    flag = True\n",
    "    for length in list_of_sentence_count:\n",
    "        if(length > 15):\n",
    "            flag = False\n",
    "    return flag\n",
    "number_of_sentences(reader)"
   ]
  },
  {
   "cell_type": "markdown",
   "metadata": {},
   "source": [
    "# Method 2"
   ]
  },
  {
   "cell_type": "code",
   "execution_count": 4,
   "metadata": {},
   "outputs": [
    {
     "data": {
      "text/plain": [
       "True"
      ]
     },
     "execution_count": 4,
     "metadata": {},
     "output_type": "execute_result"
    }
   ],
   "source": [
    "def number_of_sentences(file):\n",
    "    flag = True\n",
    "    sentence = sent_tokenize(file)\n",
    "    length = len(sentence)\n",
    "    if length > 15:\n",
    "        flag = False\n",
    "    return flag\n",
    "number_of_sentences(reader)"
   ]
  },
  {
   "cell_type": "markdown",
   "metadata": {
    "collapsed": true
   },
   "source": [
    "# Function to detect second criteria"
   ]
  },
  {
   "cell_type": "markdown",
   "metadata": {},
   "source": [
    "# Method 1"
   ]
  },
  {
   "cell_type": "code",
   "execution_count": 5,
   "metadata": {},
   "outputs": [
    {
     "data": {
      "text/plain": [
       "False"
      ]
     },
     "execution_count": 5,
     "metadata": {},
     "output_type": "execute_result"
    }
   ],
   "source": [
    "def number_of_words(file):\n",
    "    list_of_word_count = [len(word_tokenize(sentence)) for sentence in sent_tokenize(reader)]\n",
    "    flag = True\n",
    "    for length in list_of_word_count:\n",
    "        if(length > 15):\n",
    "            flag = False\n",
    "    return flag\n",
    "number_of_words(reader)"
   ]
  },
  {
   "cell_type": "markdown",
   "metadata": {},
   "source": [
    "# Method 2"
   ]
  },
  {
   "cell_type": "code",
   "execution_count": 6,
   "metadata": {},
   "outputs": [
    {
     "data": {
      "text/plain": [
       "False"
      ]
     },
     "execution_count": 6,
     "metadata": {},
     "output_type": "execute_result"
    }
   ],
   "source": [
    "def number_of_words(file):\n",
    "    sentence = sent_tokenize(file)\n",
    "    flag = True\n",
    "    sentence_length = []\n",
    "    for i in sentence:\n",
    "        words = word_tokenize(i)\n",
    "        sentence_length.append(len(words))\n",
    "    for k in sentence_length:\n",
    "        if k > 15:\n",
    "            flag = False\n",
    "            break      \n",
    "    return flag\n",
    "number_of_words(reader)"
   ]
  },
  {
   "cell_type": "markdown",
   "metadata": {
    "collapsed": true
   },
   "source": [
    "# Function to detect third criteria"
   ]
  },
  {
   "cell_type": "markdown",
   "metadata": {},
   "source": [
    "# Method 1"
   ]
  },
  {
   "cell_type": "code",
   "execution_count": 7,
   "metadata": {},
   "outputs": [
    {
     "data": {
      "text/plain": [
       "False"
      ]
     },
     "execution_count": 7,
     "metadata": {},
     "output_type": "execute_result"
    }
   ],
   "source": [
    "def number_of_characters(file):\n",
    "    sentence = sent_tokenize(file)\n",
    "    flag = True\n",
    "    word_length = []\n",
    "    for i in sentence:\n",
    "        words = word_tokenize(i)\n",
    "        for w in words:\n",
    "            word_length.append(len(w))\n",
    "    for k in word_length:\n",
    "        if k >15:\n",
    "            flag = False\n",
    "            break\n",
    "    return flag\n",
    "number_of_characters(reader)"
   ]
  },
  {
   "cell_type": "markdown",
   "metadata": {},
   "source": [
    "Mr. Wilson was not really satisfied with the write up. So he edited the few portions of the document and has resent the document for validation.\n",
    "\n",
    "~~~~ \n",
    "Musk was born on June 28, 1971, in Pretoria, Gauteng, South Africa,[27] the son of Maye Musk (née Haldeman), a model and dietician from Regina, Saskatchewan, Canada;[28] and Errol Musk, a South African electromechanical engineer, pilot and sailor. He has a younger brother, Kimbal (born 1972), and a younger sister, Tosca (born 1974).[28][29][30][31] His paternal grandmother was British, and he also has Pennsylvania Dutch ancestry,[32][33] and his maternal grandfather was American, from Minnesota.[34] After his parents divorced in 1980, Musk lived mostly with his father in the suburbs of Pretoria.[32]\n",
    "\n",
    "During his childhood he had an interest in reading and often did so for hours at a time.[35]\n",
    "\n",
    "At What age did Musk got interested in computing?At age 10, he developed an interest in computing with the Commodore VIC-20.[36] He taught himself computer programming at the age of 12, sold the code for a BASIC-based video game he created called Blastar, to a magazine called PC and Office Technology, for approximately $500. [37][38] A web version of the game is available online.[37][39]\n",
    "\n",
    "Musk was severely bullied throughout his childhood, and was once hospitalized when a group of boys threw him down a flight of stairs and then beat him until he lost consciousness.[40]\n",
    "\n",
    "Musk was initially educated at private schools, attending the English-speaking Waterkloof House Preparatory School. \n",
    "\n",
    "Mr. Sing helped Musk during his initial days when he was severely bullied during his childhood.\n",
    "\n",
    "Musk later graduated from Pretoria Boys High School and moved to Canada in June 1989, just before his 18th birthday,[41] after obtaining Canadian citizenship through his Canadian-born mother.[42][43] Although at the time Musk had to register to become a Canadian citizen, Bill C-37, which came into law in April of 2009, effectively made his Canadian citizenship retroactive to his birth since he was born in the first generation abroad to a Canadian-born mother. Therefore, with the law change, he is considered to have always been a Canadian citizen by birth.\n",
    "~~~~\n",
    "\n",
    "#### Detect the content sent by Mr. Wilson. ####\n",
    "\n",
    "#### Also spot the differences between the content posted now and the content posted earlier. ####\n",
    "\n"
   ]
  },
  {
   "cell_type": "code",
   "execution_count": 8,
   "metadata": {
    "collapsed": true
   },
   "outputs": [],
   "source": [
    "import nltk\n",
    "from nltk.tokenize import word_tokenize, sent_tokenize"
   ]
  },
  {
   "cell_type": "markdown",
   "metadata": {},
   "source": [
    "# Reading Other file"
   ]
  },
  {
   "cell_type": "code",
   "execution_count": 9,
   "metadata": {
    "collapsed": true
   },
   "outputs": [],
   "source": [
    "file_test = open('TextFile1.txt','r')\n",
    "reader_test = file_test.read()"
   ]
  },
  {
   "cell_type": "markdown",
   "metadata": {
    "collapsed": true
   },
   "source": [
    "# Use the function created earlier to detect the first criteria"
   ]
  },
  {
   "cell_type": "code",
   "execution_count": 10,
   "metadata": {},
   "outputs": [
    {
     "data": {
      "text/plain": [
       "True"
      ]
     },
     "execution_count": 10,
     "metadata": {},
     "output_type": "execute_result"
    }
   ],
   "source": [
    "number_of_sentences(reader_test)"
   ]
  },
  {
   "cell_type": "markdown",
   "metadata": {
    "collapsed": true
   },
   "source": [
    "# Use the function created earlier to detect the second criteria"
   ]
  },
  {
   "cell_type": "code",
   "execution_count": 11,
   "metadata": {},
   "outputs": [
    {
     "data": {
      "text/plain": [
       "False"
      ]
     },
     "execution_count": 11,
     "metadata": {},
     "output_type": "execute_result"
    }
   ],
   "source": [
    "number_of_words(reader_test)"
   ]
  },
  {
   "cell_type": "markdown",
   "metadata": {},
   "source": [
    "# Important Points\n",
    "## 1. Mr. Sing is considerred different sentence and Mr. Singh in not because the Sing is a verb so it divides considering . as a full stop(Sentence End) but in the case of Mr. Singh it considers it as a Proper Noun\n",
    "## 2. Punkt Tokenizer follows unsupervised learning so doesn't has a set rules else Mr. Singh and Mr. Sing would have meant the same\n",
    "## 3. Punkt Tokenizer is not guaranteed to work always"
   ]
  },
  {
   "cell_type": "markdown",
   "metadata": {
    "collapsed": true
   },
   "source": [
    "# Use the function created earlier to detect the third critera"
   ]
  },
  {
   "cell_type": "code",
   "execution_count": 12,
   "metadata": {},
   "outputs": [
    {
     "data": {
      "text/plain": [
       "False"
      ]
     },
     "execution_count": 12,
     "metadata": {},
     "output_type": "execute_result"
    }
   ],
   "source": [
    "number_of_characters(reader_test)"
   ]
  }
 ],
 "metadata": {
  "kernelspec": {
   "display_name": "Python 3",
   "language": "python",
   "name": "python3"
  },
  "language_info": {
   "codemirror_mode": {
    "name": "ipython",
    "version": 3
   },
   "file_extension": ".py",
   "mimetype": "text/x-python",
   "name": "python",
   "nbconvert_exporter": "python",
   "pygments_lexer": "ipython3",
   "version": "3.5.2"
  }
 },
 "nbformat": 4,
 "nbformat_minor": 2
}
